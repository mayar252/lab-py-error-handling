{
 "cells": [
  {
   "cell_type": "markdown",
   "metadata": {},
   "source": [
    "# LAB | Error Handling in Python\n",
    "\n",
    "## Overview\n",
    "This exercise notebook will help you practice error handling in Python using exceptions. You will write programs that handle various types of exceptions to ensure your code runs smoothly and handles errors gracefully."
   ]
  },
  {
   "cell_type": "markdown",
   "metadata": {},
   "source": [
    "### Exercise 1: Handle ZeroDivisionError\n",
    "Write a Python program to handle a `ZeroDivisionError` exception when dividing a number by zero.\n"
   ]
  },
  {
   "cell_type": "code",
   "execution_count": 15,
   "metadata": {},
   "outputs": [
    {
     "name": "stdin",
     "output_type": "stream",
     "text": [
      "Enter numerator:  90\n",
      "Enter denominator:  0\n"
     ]
    },
    {
     "name": "stdout",
     "output_type": "stream",
     "text": [
      "Error: Cannot divide by zero.\n"
     ]
    }
   ],
   "source": [
    "# Your code here\n",
    "def divide_numbers():\n",
    "    try:\n",
    "        numerator = int(input(\"Enter numerator: \"))\n",
    "        denominator = int(input(\"Enter denominator: \"))\n",
    "        result = numerator / denominator\n",
    "        print(f\"Result: {result}\")\n",
    "    except ZeroDivisionError:\n",
    "        print(\"Error: Cannot divide by zero.\")\n",
    "\n",
    "divide_numbers()"
   ]
  },
  {
   "cell_type": "markdown",
   "metadata": {},
   "source": [
    "\n",
    "### Exercise 2: Raise ValueError for Invalid Input\n",
    "Write a Python program that prompts the user to input an integer and raises a `ValueError` exception if the input is not a valid integer.\n",
    "\n"
   ]
  },
  {
   "cell_type": "code",
   "execution_count": 12,
   "metadata": {},
   "outputs": [
    {
     "name": "stdin",
     "output_type": "stream",
     "text": [
      "Please enter an integer:  mayar\n"
     ]
    },
    {
     "name": "stdout",
     "output_type": "stream",
     "text": [
      "Error: Invalid input. Please enter a valid integer.\n"
     ]
    }
   ],
   "source": [
    "# Your code here\n",
    "def get_integer():\n",
    "    try:\n",
    "        user_input = input(\"Please enter an integer: \")\n",
    "        number = int(user_input)\n",
    "        print(f\"You entered: {number}\")\n",
    "    except ValueError:\n",
    "        print(\"Error: Invalid input. Please enter a valid integer.\")\n",
    "\n",
    "get_integer()"
   ]
  },
  {
   "cell_type": "markdown",
   "metadata": {},
   "source": [
    "\n",
    "\n",
    "### Exercise 3: Handle FileNotFoundError\n",
    "Write a Python program that opens a file and handles a `FileNotFoundError` exception if the file does not exist.\n",
    "\n"
   ]
  },
  {
   "cell_type": "code",
   "execution_count": 18,
   "metadata": {},
   "outputs": [
    {
     "name": "stdout",
     "output_type": "stream",
     "text": [
      "Error: File not found.\n"
     ]
    }
   ],
   "source": [
    "# Your code here\n",
    "def read_file():\n",
    "    try:\n",
    "        with open('non_existent_file.txt', 'r') as file:\n",
    "            content = file.read()\n",
    "            print(content)\n",
    "    except FileNotFoundError:\n",
    "        print(\"Error: File not found.\")\n",
    "\n",
    "read_file()"
   ]
  },
  {
   "cell_type": "markdown",
   "metadata": {},
   "source": [
    "\n",
    "\n",
    "### Exercise 4: Raise TypeError for Non-Numerical Input\n",
    "Write a Python program that prompts the user to input two numbers and raises a `TypeError` exception if the inputs are not numerical.\n",
    "\n"
   ]
  },
  {
   "cell_type": "code",
   "execution_count": 23,
   "metadata": {},
   "outputs": [
    {
     "name": "stdin",
     "output_type": "stream",
     "text": [
      "Enter the first number:  8\n",
      "Enter the second number:  m\n"
     ]
    },
    {
     "name": "stdout",
     "output_type": "stream",
     "text": [
      "Inputs must be numerical.\n"
     ]
    }
   ],
   "source": [
    "# Your code here\n",
    "def input_two_numbers():\n",
    "    try:\n",
    "        num1 = input(\"Enter the first number: \")\n",
    "        num2 = input(\"Enter the second number: \")\n",
    "        if not (num1.isnumeric() and num2.isnumeric()):\n",
    "            raise TypeError(\"Inputs must be numerical.\")\n",
    "        print(f\"Sum: {float(num1) + float(num2)}\")\n",
    "    except TypeError as te:\n",
    "        print(te)\n",
    "\n",
    "input_two_numbers()"
   ]
  },
  {
   "cell_type": "markdown",
   "metadata": {},
   "source": [
    "\n",
    "\n",
    "### Exercise 5: Handle PermissionError\n",
    "Write a Python program that opens a file and handles a `PermissionError` exception if there is a permission issue.\n",
    "\n",
    "\n"
   ]
  },
  {
   "cell_type": "code",
   "execution_count": 40,
   "metadata": {},
   "outputs": [
    {
     "name": "stdout",
     "output_type": "stream",
     "text": [
      "Error: [Errno 30] Read-only file system: '/protected_file.txt'\n"
     ]
    }
   ],
   "source": [
    "# Your code here\n",
    "def write_to_file(filename):\n",
    "    try:\n",
    "        # Attempt to open the file for writing\n",
    "        with open(filename, 'w') as file:\n",
    "            file.write(\"This is a test message.\")\n",
    "            print(f\"Successfully wrote to {filename}.\")\n",
    "    except PermissionError:\n",
    "        print(f\"Error: Permission denied when trying to write to {filename}.\")\n",
    "    except OSError as e:\n",
    "        print(f\"Error: {e}\")\n",
    "\n",
    "# Specify the file name (change this to a location where you expect a permission issue)\n",
    "write_to_file('/protected_file.txt')  # Example of a potentially protected path"
   ]
  },
  {
   "cell_type": "markdown",
   "metadata": {},
   "source": [
    "\n",
    "\n",
    "### Exercise 6: Handle IndexError in List Operations\n",
    "Write a Python program that executes an operation on a list and handles an `IndexError` exception if the index is out of range.\n",
    "\n",
    "\n"
   ]
  },
  {
   "cell_type": "code",
   "execution_count": 43,
   "metadata": {},
   "outputs": [
    {
     "name": "stdin",
     "output_type": "stream",
     "text": [
      "Enter an index to access:  7\n"
     ]
    },
    {
     "name": "stdout",
     "output_type": "stream",
     "text": [
      "Error: Index out of range.\n"
     ]
    }
   ],
   "source": [
    "# Your code here\n",
    "def access_list_element():\n",
    "    my_list = [1, 2, 3]\n",
    "    try:\n",
    "        index = int(input(\"Enter an index to access: \"))\n",
    "        print(f\"Element at index {index}: {my_list[index]}\")\n",
    "    except IndexError:\n",
    "        print(\"Error: Index out of range.\")\n",
    "\n",
    "access_list_element()"
   ]
  },
  {
   "cell_type": "markdown",
   "metadata": {},
   "source": [
    "\n",
    "\n",
    "### Exercise 7: Handle KeyboardInterrupt Exception\n",
    "Write a Python program that prompts the user to input a number and handles a `KeyboardInterrupt` exception if the user cancels the input.\n",
    "\n"
   ]
  },
  {
   "cell_type": "code",
   "execution_count": 75,
   "metadata": {},
   "outputs": [
    {
     "name": "stdin",
     "output_type": "stream",
     "text": [
      "Please enter a number:  \n"
     ]
    },
    {
     "name": "stdout",
     "output_type": "stream",
     "text": [
      "Error: That's not a valid number.\n"
     ]
    }
   ],
   "source": [
    "# Your code here\n",
    "def get_number_input():\n",
    "    try:\n",
    "        user_input = input(\"Please enter a number: \")\n",
    "        number = float(user_input)  # Convert the input to a float\n",
    "        print(f\"You entered: {number}\")\n",
    "    except KeyboardInterrupt:\n",
    "        print(\"\\nInput was cancelled. Please try again later.\")\n",
    "    except ValueError:\n",
    "        print(\"Error: That's not a valid number.\")\n",
    "\n",
    "get_number_input()"
   ]
  },
  {
   "cell_type": "markdown",
   "metadata": {},
   "source": [
    "\n",
    "\n",
    "### Exercise 8: Handle ArithmeticError\n",
    "Write a Python program that executes division and handles an `ArithmeticError` exception if there is an arithmetic error.\n",
    "\n"
   ]
  },
  {
   "cell_type": "code",
   "execution_count": 83,
   "metadata": {},
   "outputs": [
    {
     "name": "stdin",
     "output_type": "stream",
     "text": [
      "Enter a number:  8\n",
      "Enter another number:  0\n"
     ]
    },
    {
     "name": "stdout",
     "output_type": "stream",
     "text": [
      "Error: An arithmetic error occurred.\n"
     ]
    }
   ],
   "source": [
    "# Your code here\n",
    "def arithmetic_operation():\n",
    "    try:\n",
    "        x = int(input(\"Enter a number: \"))\n",
    "        y = int(input(\"Enter another number: \"))\n",
    "        result = x / y\n",
    "        print(f\"Result: {result}\")\n",
    "    except ArithmeticError:\n",
    "        print(\"Error: An arithmetic error occurred.\")\n",
    "\n",
    "arithmetic_operation()"
   ]
  },
  {
   "cell_type": "markdown",
   "metadata": {},
   "source": [
    "\n",
    "\n",
    "### Exercise 9: Handle UnicodeDecodeError\n",
    "Write a Python program that opens a file and handles a `UnicodeDecodeError` exception if there is an encoding issue.\n",
    "\n"
   ]
  },
  {
   "cell_type": "code",
   "execution_count": 89,
   "metadata": {},
   "outputs": [
    {
     "name": "stdout",
     "output_type": "stream",
     "text": [
      "Error: The file 'unicode_file.txt' was not found.\n"
     ]
    }
   ],
   "source": [
    "# Your code here\n",
    "def read_unicode_file():\n",
    "    try:\n",
    "        with open('unicode_file.txt', 'r', encoding='utf-8') as file:\n",
    "            content = file.read()\n",
    "            print(content)\n",
    "    except FileNotFoundError:\n",
    "        print(\"Error: The file 'unicode_file.txt' was not found.\")\n",
    "    except UnicodeDecodeError:\n",
    "        print(\"Error: Could not decode the file.\")\n",
    "    except Exception as e:\n",
    "        print(f\"An unexpected error occurred: {e}\")\n",
    "\n",
    "read_unicode_file()"
   ]
  },
  {
   "cell_type": "markdown",
   "metadata": {},
   "source": [
    "\n",
    "\n",
    "### Exercise 10: Handle AttributeError\n",
    "Write a Python program that executes an operation on an object and handles an `AttributeError` exception if the attribute does not exist.\n",
    "\n"
   ]
  },
  {
   "cell_type": "code",
   "execution_count": 92,
   "metadata": {},
   "outputs": [
    {
     "name": "stdout",
     "output_type": "stream",
     "text": [
      "Error: Attribute does not exist.\n"
     ]
    }
   ],
   "source": [
    "# Your code here\n",
    "def access_attribute():\n",
    "    class MyClass:\n",
    "        def __init__(self):\n",
    "            self.name = \"Example\"\n",
    "    \n",
    "    obj = MyClass()\n",
    "    try:\n",
    "        print(obj.non_existent_attribute)\n",
    "    except AttributeError:\n",
    "        print(\"Error: Attribute does not exist.\")\n",
    "\n",
    "access_attribute()"
   ]
  },
  {
   "cell_type": "markdown",
   "metadata": {},
   "source": [
    "\n",
    "\n",
    "## Bonus Exercises\n",
    "\n",
    "### Bonus Exercise 1: Handle Multiple Exceptions\n",
    "Write a Python program that demonstrates handling multiple exceptions in one block.\n",
    "\n",
    "\n"
   ]
  },
  {
   "cell_type": "code",
   "execution_count": 97,
   "metadata": {},
   "outputs": [
    {
     "name": "stdin",
     "output_type": "stream",
     "text": [
      "Enter an integer:  0\n"
     ]
    },
    {
     "name": "stdout",
     "output_type": "stream",
     "text": [
      "Error: division by zero\n"
     ]
    }
   ],
   "source": [
    "# Your code here\n",
    "def handle_multiple_exceptions():\n",
    "    try:\n",
    "        num = int(input(\"Enter an integer: \"))\n",
    "        result = 10 / num\n",
    "        print(f\"Result: {result}\")\n",
    "    except (ZeroDivisionError, ValueError) as e:\n",
    "        print(f\"Error: {e}\")\n",
    "\n",
    "handle_multiple_exceptions()"
   ]
  },
  {
   "cell_type": "markdown",
   "metadata": {},
   "source": [
    "\n",
    "\n",
    "### Bonus Exercise 2: Create Custom Exception\n",
    "Create a custom exception class and raise it in your code when certain conditions are met.\n",
    "\n",
    "\n"
   ]
  },
  {
   "cell_type": "code",
   "execution_count": 99,
   "metadata": {},
   "outputs": [
    {
     "name": "stdout",
     "output_type": "stream",
     "text": [
      "This is a custom error.\n"
     ]
    }
   ],
   "source": [
    "# Your code here\n",
    "class CustomError(Exception):\n",
    "    pass\n",
    "\n",
    "def check_condition(condition):\n",
    "    if not condition:\n",
    "        raise CustomError(\"This is a custom error.\")\n",
    "\n",
    "try:\n",
    "    check_condition(False)\n",
    "except CustomError as e:\n",
    "    print(e)"
   ]
  },
  {
   "cell_type": "markdown",
   "metadata": {},
   "source": [
    "\n",
    "\n",
    "### Bonus Exercise 3: Validate User Input with Exception Handling\n",
    "Write a program that repeatedly prompts the user for valid input until they provide it, using exception handling to manage invalid inputs.\n",
    "\n"
   ]
  },
  {
   "cell_type": "code",
   "execution_count": 110,
   "metadata": {},
   "outputs": [
    {
     "name": "stdin",
     "output_type": "stream",
     "text": [
      "Enter a valid integer:  \n"
     ]
    },
    {
     "name": "stdout",
     "output_type": "stream",
     "text": [
      "Invalid input. Please try again.\n"
     ]
    },
    {
     "name": "stdin",
     "output_type": "stream",
     "text": [
      "Enter a valid integer:  m\n"
     ]
    },
    {
     "name": "stdout",
     "output_type": "stream",
     "text": [
      "Invalid input. Please try again.\n"
     ]
    },
    {
     "name": "stdin",
     "output_type": "stream",
     "text": [
      "Enter a valid integer:  2\n"
     ]
    },
    {
     "name": "stdout",
     "output_type": "stream",
     "text": [
      "You entered: 2\n"
     ]
    }
   ],
   "source": [
    "# Your code here\n",
    "def validate_input():\n",
    "    while True:\n",
    "        try:\n",
    "            value = int(input(\"Enter a valid integer: \"))\n",
    "            print(f\"You entered: {value}\")\n",
    "            break\n",
    "        except ValueError:\n",
    "            print(\"Invalid input. Please try again.\")\n",
    "\n",
    "validate_input()"
   ]
  },
  {
   "cell_type": "markdown",
   "metadata": {},
   "source": [
    "\n",
    "\n",
    "### Bonus Exercise 4: Log Errors to File\n",
    "Modify your error handling to log errors to a text file instead of printing them to the console.\n",
    "\n"
   ]
  },
  {
   "cell_type": "code",
   "execution_count": 117,
   "metadata": {},
   "outputs": [
    {
     "name": "stdout",
     "output_type": "stream",
     "text": [
      "Error: [Errno 2] No such file or directory: 'non_existent_file.txt'\n"
     ]
    }
   ],
   "source": [
    "# Your code here\n",
    "def log_error():\n",
    "    try:\n",
    "        with open('non_existent_file.txt', 'r') as file:\n",
    "            content = file.read()\n",
    "    except FileNotFoundError as e:\n",
    "        # Log the error to the file\n",
    "        with open('error_log.txt', 'a') as log_file:\n",
    "            log_file.write(f\"Error: {e}\\n\")\n",
    "        \n",
    "        # Print the error message to the console\n",
    "        print(f\"Error: {e}\")\n",
    "\n",
    "log_error()"
   ]
  },
  {
   "cell_type": "markdown",
   "metadata": {},
   "source": [
    "\n",
    "\n",
    "### Bonus Exercise 5: Retry Logic on Exception\n",
    "Implement retry logic for operations that could fail, allowing users to try again after encountering an error.\n",
    "\n"
   ]
  },
  {
   "cell_type": "code",
   "execution_count": 119,
   "metadata": {},
   "outputs": [
    {
     "name": "stdin",
     "output_type": "stream",
     "text": [
      "Enter an integer:  \n"
     ]
    },
    {
     "name": "stdout",
     "output_type": "stream",
     "text": [
      "Invalid input. Please try again.\n"
     ]
    },
    {
     "name": "stdin",
     "output_type": "stream",
     "text": [
      "Enter an integer:  9\n"
     ]
    },
    {
     "name": "stdout",
     "output_type": "stream",
     "text": [
      "You entered: 9\n"
     ]
    }
   ],
   "source": [
    "# Your code here\n",
    "def retry_logic():\n",
    "    while True:\n",
    "        try:\n",
    "            num = int(input(\"Enter an integer: \"))\n",
    "            print(f\"You entered: {num}\")\n",
    "            break\n",
    "        except ValueError:\n",
    "            print(\"Invalid input. Please try again.\")\n",
    "\n",
    "retry_logic()"
   ]
  },
  {
   "cell_type": "code",
   "execution_count": null,
   "metadata": {},
   "outputs": [],
   "source": []
  }
 ],
 "metadata": {
  "kernelspec": {
   "display_name": "Python [conda env:base] *",
   "language": "python",
   "name": "conda-base-py"
  },
  "language_info": {
   "codemirror_mode": {
    "name": "ipython",
    "version": 3
   },
   "file_extension": ".py",
   "mimetype": "text/x-python",
   "name": "python",
   "nbconvert_exporter": "python",
   "pygments_lexer": "ipython3",
   "version": "3.12.7"
  }
 },
 "nbformat": 4,
 "nbformat_minor": 4
}
